{
    "cells": [
        {
            "metadata": {},
            "cell_type": "code",
            "source": "from IPython.core.display import display, HTML\ntoggle_code_str = '''\n<form action=\"javascript:code_toggle()\"><input type=\"submit\" id=\"toggleButton\" value=\"Show Solution\"></form>\n'''\n\ntoggle_code_prepare_str = '''\n    <script>\n    function code_toggle() {\n        if ($('div.cell.code_cell.rendered.selected div.input').css('display')!='none'){\n            $('div.cell.code_cell.rendered.selected div.input').hide();\n        } else {\n            $('div.cell.code_cell.rendered.selected div.input').show();\n        }\n    }\n    </script>\n\n'''\n\ndisplay(HTML(toggle_code_prepare_str + toggle_code_str))\n\ndef toggle_code():\n    display(HTML(toggle_code_str))",
            "execution_count": 4,
            "outputs": [
                {
                    "output_type": "display_data",
                    "data": {
                        "text/plain": "<IPython.core.display.HTML object>",
                        "text/html": "\n    <script>\n    function code_toggle() {\n        if ($('div.cell.code_cell.rendered.selected div.input').css('display')!='none'){\n            $('div.cell.code_cell.rendered.selected div.input').hide();\n        } else {\n            $('div.cell.code_cell.rendered.selected div.input').show();\n        }\n    }\n    </script>\n\n\n<form action=\"javascript:code_toggle()\"><input type=\"submit\" id=\"toggleButton\" value=\"Show Solution\"></form>\n"
                    },
                    "metadata": {}
                }
            ]
        },
        {
            "metadata": {},
            "cell_type": "code",
            "source": "toggle_code()\n\nX = 1",
            "execution_count": 5,
            "outputs": [
                {
                    "output_type": "display_data",
                    "data": {
                        "text/plain": "<IPython.core.display.HTML object>",
                        "text/html": "\n<form action=\"javascript:code_toggle()\"><input type=\"submit\" id=\"toggleButton\" value=\"Show Solution\"></form>\n"
                    },
                    "metadata": {}
                }
            ]
        },
        {
            "metadata": {},
            "cell_type": "code",
            "source": "",
            "execution_count": null,
            "outputs": []
        }
    ],
    "metadata": {
        "kernelspec": {
            "name": "python3",
            "display_name": "Python 3.7",
            "language": "python"
        },
        "language_info": {
            "name": "python",
            "version": "3.7.10",
            "mimetype": "text/x-python",
            "codemirror_mode": {
                "name": "ipython",
                "version": 3
            },
            "pygments_lexer": "ipython3",
            "nbconvert_exporter": "python",
            "file_extension": ".py"
        }
    },
    "nbformat": 4,
    "nbformat_minor": 1
}