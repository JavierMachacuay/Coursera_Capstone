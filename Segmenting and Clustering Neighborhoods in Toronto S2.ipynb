{
    "cells": [
        {
            "metadata": {},
            "cell_type": "markdown",
            "source": "# Instructions"
        },
        {
            "metadata": {},
            "cell_type": "markdown",
            "source": "1. Start by creating a new Notebook for this assignment.\n2. Use the Notebook to build the code to scrape the following Wikipedia page, https://en.wikipedia.org/wiki/List_of_postal_codes_of_Canada:_M, in order to obtain the data that is in the table of postal codes and to transform the data into a pandas  dataframe like the one shown below:"
        },
        {
            "metadata": {},
            "cell_type": "markdown",
            "source": "![](https://d3c33hcgiwev3.cloudfront.net/imageAssetProxy.v1/7JXaz3NNEeiMwApe4i-fLg_40e690ae0e927abda2d4bde7d94ed133_Screen-Shot-2018-06-18-at-7.17.57-PM.png?expiry=1615334400000&hmac=WYgTMitELqFX70mNgyJ4zC6NoewRkX25uEe1a26aL3g)"
        },
        {
            "metadata": {},
            "cell_type": "markdown",
            "source": "3. To create the above dataframe: \n\n* The dataframe will consist of three columns: PostalCode, Borough, and Neighborhood\n* Only process the cells that have an assigned borough. Ignore cells with a borough that is **Not assigned**.\n* More than one neighborhood can exist in one postal code area. For example, in the table on the Wikipedia page, you will notice that **M5A** is listed twice and has two    neighborhoods: **Harbourfront** and **Regent Park**. These two rows will be combined into one row with the neighborhoods separated with a comma as shown in row 11  in the above table.\n* If a cell has a borough but a **Not assigned**  neighborhood, then the neighborhood will be the same as the borough.\n* Clean your Notebook and add Markdown cells to explain your work and any assumptions you are making.\n* In the last cell of your notebook, use the .shape method to print the number of rows of your dataframe.\n\n4. Submit a link to your Notebook on your Github repository.(**10 marks**)"
        },
        {
            "metadata": {},
            "cell_type": "markdown",
            "source": "# Webscraping"
        },
        {
            "metadata": {},
            "cell_type": "markdown",
            "source": "Import libraries for webscraping:"
        },
        {
            "metadata": {},
            "cell_type": "code",
            "source": "from bs4 import BeautifulSoup\nimport requests\nimport pandas as pd",
            "execution_count": 1,
            "outputs": []
        },
        {
            "metadata": {},
            "cell_type": "markdown",
            "source": "Make an HTML GET Request and store the response:"
        },
        {
            "metadata": {},
            "cell_type": "code",
            "source": "url = 'https://en.wikipedia.org/wiki/List_of_postal_codes_of_Canada:_M'\nhtml_response = requests.get(url).text",
            "execution_count": 2,
            "outputs": []
        },
        {
            "metadata": {},
            "cell_type": "markdown",
            "source": "Instantiate the BeautifulSoup object with the HTML response:"
        },
        {
            "metadata": {},
            "cell_type": "code",
            "source": "bs = BeautifulSoup(html_response,'html5lib')",
            "execution_count": 3,
            "outputs": []
        },
        {
            "metadata": {},
            "cell_type": "markdown",
            "source": "Use the **find_all** method to find all HTML tables and pass it to the **pd.read_html** method to retrieve all the tables of the requested web page."
        },
        {
            "metadata": {},
            "cell_type": "code",
            "source": "df_list = pd.read_html(str(bs.find_all('table')), flavor='bs4')",
            "execution_count": 87,
            "outputs": []
        },
        {
            "metadata": {},
            "cell_type": "markdown",
            "source": "The **df_list** list contains 3 pd.DataFrame() objects that are all the tables found in the web page. However we are only interested in the first one of the list: "
        },
        {
            "metadata": {
                "scrolled": true
            },
            "cell_type": "code",
            "source": "df = df_list[0]\ndf.head()",
            "execution_count": 88,
            "outputs": [
                {
                    "output_type": "execute_result",
                    "execution_count": 88,
                    "data": {
                        "text/plain": "  Postal Code           Borough              Neighbourhood\n0         M1A      Not assigned               Not assigned\n1         M2A      Not assigned               Not assigned\n2         M3A        North York                  Parkwoods\n3         M4A        North York           Victoria Village\n4         M5A  Downtown Toronto  Regent Park, Harbourfront",
                        "text/html": "<div>\n<style scoped>\n    .dataframe tbody tr th:only-of-type {\n        vertical-align: middle;\n    }\n\n    .dataframe tbody tr th {\n        vertical-align: top;\n    }\n\n    .dataframe thead th {\n        text-align: right;\n    }\n</style>\n<table border=\"1\" class=\"dataframe\">\n  <thead>\n    <tr style=\"text-align: right;\">\n      <th></th>\n      <th>Postal Code</th>\n      <th>Borough</th>\n      <th>Neighbourhood</th>\n    </tr>\n  </thead>\n  <tbody>\n    <tr>\n      <th>0</th>\n      <td>M1A</td>\n      <td>Not assigned</td>\n      <td>Not assigned</td>\n    </tr>\n    <tr>\n      <th>1</th>\n      <td>M2A</td>\n      <td>Not assigned</td>\n      <td>Not assigned</td>\n    </tr>\n    <tr>\n      <th>2</th>\n      <td>M3A</td>\n      <td>North York</td>\n      <td>Parkwoods</td>\n    </tr>\n    <tr>\n      <th>3</th>\n      <td>M4A</td>\n      <td>North York</td>\n      <td>Victoria Village</td>\n    </tr>\n    <tr>\n      <th>4</th>\n      <td>M5A</td>\n      <td>Downtown Toronto</td>\n      <td>Regent Park, Harbourfront</td>\n    </tr>\n  </tbody>\n</table>\n</div>"
                    },
                    "metadata": {}
                }
            ]
        },
        {
            "metadata": {},
            "cell_type": "markdown",
            "source": "# Work the df DataFrame"
        },
        {
            "metadata": {},
            "cell_type": "markdown",
            "source": "Once we have the dataframe we should tweak it a little bit, so we can work with it. For this we are going to follow the given instructions."
        },
        {
            "metadata": {},
            "cell_type": "markdown",
            "source": "## Only process the cells that have an assigned borough. Ignore cells with a borough that is **Not assigned**."
        },
        {
            "metadata": {},
            "cell_type": "markdown",
            "source": "We will assume that \"Ignore\" refers to not consider it for further analysis. So we can achieve it with the following lines of code:"
        },
        {
            "metadata": {},
            "cell_type": "code",
            "source": "df.drop(df[df['Borough']=='Not assigned'].index,inplace=True)",
            "execution_count": 89,
            "outputs": []
        },
        {
            "metadata": {},
            "cell_type": "markdown",
            "source": "Since we dropped some rows of our DataFrame, we need to reset the index:"
        },
        {
            "metadata": {},
            "cell_type": "code",
            "source": "df.reset_index(drop=True,inplace=True)\ndf.head()",
            "execution_count": 90,
            "outputs": [
                {
                    "output_type": "execute_result",
                    "execution_count": 90,
                    "data": {
                        "text/plain": "  Postal Code           Borough                                Neighbourhood\n0         M3A        North York                                    Parkwoods\n1         M4A        North York                             Victoria Village\n2         M5A  Downtown Toronto                    Regent Park, Harbourfront\n3         M6A        North York             Lawrence Manor, Lawrence Heights\n4         M7A  Downtown Toronto  Queen's Park, Ontario Provincial Government",
                        "text/html": "<div>\n<style scoped>\n    .dataframe tbody tr th:only-of-type {\n        vertical-align: middle;\n    }\n\n    .dataframe tbody tr th {\n        vertical-align: top;\n    }\n\n    .dataframe thead th {\n        text-align: right;\n    }\n</style>\n<table border=\"1\" class=\"dataframe\">\n  <thead>\n    <tr style=\"text-align: right;\">\n      <th></th>\n      <th>Postal Code</th>\n      <th>Borough</th>\n      <th>Neighbourhood</th>\n    </tr>\n  </thead>\n  <tbody>\n    <tr>\n      <th>0</th>\n      <td>M3A</td>\n      <td>North York</td>\n      <td>Parkwoods</td>\n    </tr>\n    <tr>\n      <th>1</th>\n      <td>M4A</td>\n      <td>North York</td>\n      <td>Victoria Village</td>\n    </tr>\n    <tr>\n      <th>2</th>\n      <td>M5A</td>\n      <td>Downtown Toronto</td>\n      <td>Regent Park, Harbourfront</td>\n    </tr>\n    <tr>\n      <th>3</th>\n      <td>M6A</td>\n      <td>North York</td>\n      <td>Lawrence Manor, Lawrence Heights</td>\n    </tr>\n    <tr>\n      <th>4</th>\n      <td>M7A</td>\n      <td>Downtown Toronto</td>\n      <td>Queen's Park, Ontario Provincial Government</td>\n    </tr>\n  </tbody>\n</table>\n</div>"
                    },
                    "metadata": {}
                }
            ]
        },
        {
            "metadata": {},
            "cell_type": "markdown",
            "source": "## More than one neighborhood can exist in one postal code area. For example, in the table on the Wikipedia page, you will notice that M5A is listed twice and has two neighborhoods: Harbourfront and Regent Park. These two rows will be combined into one row with the neighborhoods separated with a comma as shown in row 11 in the above table."
        },
        {
            "metadata": {},
            "cell_type": "markdown",
            "source": "On the Wikipedia page, M5A isn't listed twice and it is already processed to the required format. "
        },
        {
            "metadata": {},
            "cell_type": "markdown",
            "source": "## If a cell has a borough but a Not assigned neighborhood, then the neighborhood will be the same as the borough."
        },
        {
            "metadata": {},
            "cell_type": "markdown",
            "source": "First we are going to inspect if there are rows with that condition. Since we dropped out all the rows with **Not Assigned** Borough, we will just look for the **Not Assigned** Neighborhoods. "
        },
        {
            "metadata": {
                "scrolled": true
            },
            "cell_type": "code",
            "source": "df[df['Neighbourhood']=='Not Assigned']",
            "execution_count": 91,
            "outputs": [
                {
                    "output_type": "execute_result",
                    "execution_count": 91,
                    "data": {
                        "text/plain": "Empty DataFrame\nColumns: [Postal Code, Borough, Neighbourhood]\nIndex: []",
                        "text/html": "<div>\n<style scoped>\n    .dataframe tbody tr th:only-of-type {\n        vertical-align: middle;\n    }\n\n    .dataframe tbody tr th {\n        vertical-align: top;\n    }\n\n    .dataframe thead th {\n        text-align: right;\n    }\n</style>\n<table border=\"1\" class=\"dataframe\">\n  <thead>\n    <tr style=\"text-align: right;\">\n      <th></th>\n      <th>Postal Code</th>\n      <th>Borough</th>\n      <th>Neighbourhood</th>\n    </tr>\n  </thead>\n  <tbody>\n  </tbody>\n</table>\n</div>"
                    },
                    "metadata": {}
                }
            ]
        },
        {
            "metadata": {},
            "cell_type": "markdown",
            "source": "No rows were printed, so we can conclude that the original table didn't have any row that has a borough defined for any **Not Assigned** neighborhood."
        },
        {
            "metadata": {},
            "cell_type": "markdown",
            "source": "There are no remaining processing steps in these first instructions so we end this notebook with the final instruction."
        },
        {
            "metadata": {},
            "cell_type": "markdown",
            "source": "## In the last cell of your notebook, use the .shape method to print the number of rows of your dataframe."
        },
        {
            "metadata": {
                "scrolled": true
            },
            "cell_type": "code",
            "source": "df.shape[0]",
            "execution_count": 92,
            "outputs": [
                {
                    "output_type": "execute_result",
                    "execution_count": 92,
                    "data": {
                        "text/plain": "103"
                    },
                    "metadata": {}
                }
            ]
        },
        {
            "metadata": {},
            "cell_type": "markdown",
            "source": "# Instructions 2"
        },
        {
            "metadata": {},
            "cell_type": "markdown",
            "source": "Now that you have built a dataframe of the postal code of each neighborhood along with the borough name and neighborhood name, in order to utilize the Foursquare location data, we need to get the latitude and the longitude coordinates of each neighborhood. \n\nIn an older version of this course, we were leveraging the Google Maps Geocoding API to get the latitude and the longitude coordinates of each neighborhood. However, recently Google started charging for their API: http://geoawesomeness.com/developers-up-in-arms-over-google-maps-api-insane-price-hike/, so we will use the Geocoder Python package instead: https://geocoder.readthedocs.io/index.html.\n\nThe problem with this Package is you have to be persistent sometimes in order to get the geographical coordinates of a given postal code. So you can make a call to get the latitude and longitude coordinates of a given postal code and the result would be None, and then make the call again and you would get the coordinates. So, in order to make sure that you get the coordinates for all of our neighborhoods, you can run a while loop for each postal code. Taking  postal code M5G as an example, your code would look something like this:"
        },
        {
            "metadata": {},
            "cell_type": "markdown",
            "source": "```\n\nimport geocoder # import geocoder\n\n# initialize your variable to None\nlat_lng_coords = None\n\n# loop until you get the coordinates\nwhile(lat_lng_coords is None):\n    g = geocoder.google('{}, Toronto, Ontario'.format(postal_code))\n    lat_lng_coords = g.latlng\n\nlatitude = lat_lng_coords[0]\nlongitude = lat_lng_coords[1]\n\n```"
        },
        {
            "metadata": {},
            "cell_type": "markdown",
            "source": "Given that this package can be very unreliable, in case you are not able to get the geographical coordinates of the neighborhoods using the Geocoder package, here is a link to a csv file that has the geographical coordinates of each postal code: http://cocl.us/Geospatial_data\n\nUse the Geocoder package or the csv file to create the following dataframe:"
        },
        {
            "metadata": {},
            "cell_type": "markdown",
            "source": "![](https://d3c33hcgiwev3.cloudfront.net/imageAssetProxy.v1/HZ3jNHNOEeiMwApe4i-fLg_f44f0f10ccfaf42fcbdba9813364e173_Screen-Shot-2018-06-18-at-7.18.16-PM.png?expiry=1615334400000&hmac=5U06JyUtp8gYuIQQ8tbqhskVGKRQL6chmNANbYznCK8)"
        },
        {
            "metadata": {},
            "cell_type": "markdown",
            "source": "Once you are able to create the above dataframe, submit a link to the new Notebook on your Github repository. (**2 marks**)"
        },
        {
            "metadata": {},
            "cell_type": "markdown",
            "source": "# Getting the geographical coordinates"
        },
        {
            "metadata": {},
            "cell_type": "markdown",
            "source": "First we will try out the given code with one of the postal codes..."
        },
        {
            "metadata": {
                "scrolled": true
            },
            "cell_type": "code",
            "source": "import geocoder # import geocoder\n\n# initialize your variable to None\nlat_lng_coords = None\n\n# loop until you get the coordinates\n\npostal_code = 'M3A'\n\nwhile(lat_lng_coords is None):\n    g = geocoder.google('{}, Toronto, Ontario'.format(postal_code))\n    lat_lng_coords = g.latlng\n\nlatitude = lat_lng_coords[0]\nlongitude = lat_lng_coords[1]",
            "execution_count": null,
            "outputs": []
        },
        {
            "metadata": {},
            "cell_type": "markdown",
            "source": "Using the above lines of code takes a lot of time just for one single postal code, so we are going to use the other alternative. The first 5 rows of the csv that was downloaded from the provided link are shown below, moreover the dataframe was stored in a variable named **gc**. "
        },
        {
            "metadata": {},
            "cell_type": "code",
            "source": "# The code was removed by Watson Studio for sharing.",
            "execution_count": 22,
            "outputs": [
                {
                    "output_type": "execute_result",
                    "execution_count": 22,
                    "data": {
                        "text/plain": "  Postal Code   Latitude  Longitude\n0         M1B  43.806686 -79.194353\n1         M1C  43.784535 -79.160497\n2         M1E  43.763573 -79.188711\n3         M1G  43.770992 -79.216917\n4         M1H  43.773136 -79.239476",
                        "text/html": "<div>\n<style scoped>\n    .dataframe tbody tr th:only-of-type {\n        vertical-align: middle;\n    }\n\n    .dataframe tbody tr th {\n        vertical-align: top;\n    }\n\n    .dataframe thead th {\n        text-align: right;\n    }\n</style>\n<table border=\"1\" class=\"dataframe\">\n  <thead>\n    <tr style=\"text-align: right;\">\n      <th></th>\n      <th>Postal Code</th>\n      <th>Latitude</th>\n      <th>Longitude</th>\n    </tr>\n  </thead>\n  <tbody>\n    <tr>\n      <th>0</th>\n      <td>M1B</td>\n      <td>43.806686</td>\n      <td>-79.194353</td>\n    </tr>\n    <tr>\n      <th>1</th>\n      <td>M1C</td>\n      <td>43.784535</td>\n      <td>-79.160497</td>\n    </tr>\n    <tr>\n      <th>2</th>\n      <td>M1E</td>\n      <td>43.763573</td>\n      <td>-79.188711</td>\n    </tr>\n    <tr>\n      <th>3</th>\n      <td>M1G</td>\n      <td>43.770992</td>\n      <td>-79.216917</td>\n    </tr>\n    <tr>\n      <th>4</th>\n      <td>M1H</td>\n      <td>43.773136</td>\n      <td>-79.239476</td>\n    </tr>\n  </tbody>\n</table>\n</div>"
                    },
                    "metadata": {}
                }
            ]
        },
        {
            "metadata": {},
            "cell_type": "markdown",
            "source": "Now we are going to create lists for the Latitude and Longitude from the **gc** dataframe in the same order of the Postal Codes from the **df** dataframe. "
        },
        {
            "metadata": {
                "scrolled": true
            },
            "cell_type": "code",
            "source": "latitude = []\nlongitude = []\n\nfor i in range(df.shape[0]):\n    latitude.append(gc.loc[gc['Postal Code']==df['Postal Code'][i],['Latitude']].values[0][0])\n    longitude.append(gc.loc[gc['Postal Code']==df['Postal Code'][i],['Longitude']].values[0][0])",
            "execution_count": 112,
            "outputs": []
        },
        {
            "metadata": {},
            "cell_type": "markdown",
            "source": "Once they are created we are going to create new columns for the Latitude and Longitude on the **df** dataframe."
        },
        {
            "metadata": {},
            "cell_type": "code",
            "source": "df['Latitude'] = latitude\ndf['Longitude'] = longitude\ndf.head()",
            "execution_count": 115,
            "outputs": [
                {
                    "output_type": "execute_result",
                    "execution_count": 115,
                    "data": {
                        "text/plain": "  Postal Code           Borough                                Neighbourhood  \\\n0         M3A        North York                                    Parkwoods   \n1         M4A        North York                             Victoria Village   \n2         M5A  Downtown Toronto                    Regent Park, Harbourfront   \n3         M6A        North York             Lawrence Manor, Lawrence Heights   \n4         M7A  Downtown Toronto  Queen's Park, Ontario Provincial Government   \n\n    Latitude  Longitude  \n0  43.753259 -79.329656  \n1  43.725882 -79.315572  \n2  43.654260 -79.360636  \n3  43.718518 -79.464763  \n4  43.662301 -79.389494  ",
                        "text/html": "<div>\n<style scoped>\n    .dataframe tbody tr th:only-of-type {\n        vertical-align: middle;\n    }\n\n    .dataframe tbody tr th {\n        vertical-align: top;\n    }\n\n    .dataframe thead th {\n        text-align: right;\n    }\n</style>\n<table border=\"1\" class=\"dataframe\">\n  <thead>\n    <tr style=\"text-align: right;\">\n      <th></th>\n      <th>Postal Code</th>\n      <th>Borough</th>\n      <th>Neighbourhood</th>\n      <th>Latitude</th>\n      <th>Longitude</th>\n    </tr>\n  </thead>\n  <tbody>\n    <tr>\n      <th>0</th>\n      <td>M3A</td>\n      <td>North York</td>\n      <td>Parkwoods</td>\n      <td>43.753259</td>\n      <td>-79.329656</td>\n    </tr>\n    <tr>\n      <th>1</th>\n      <td>M4A</td>\n      <td>North York</td>\n      <td>Victoria Village</td>\n      <td>43.725882</td>\n      <td>-79.315572</td>\n    </tr>\n    <tr>\n      <th>2</th>\n      <td>M5A</td>\n      <td>Downtown Toronto</td>\n      <td>Regent Park, Harbourfront</td>\n      <td>43.654260</td>\n      <td>-79.360636</td>\n    </tr>\n    <tr>\n      <th>3</th>\n      <td>M6A</td>\n      <td>North York</td>\n      <td>Lawrence Manor, Lawrence Heights</td>\n      <td>43.718518</td>\n      <td>-79.464763</td>\n    </tr>\n    <tr>\n      <th>4</th>\n      <td>M7A</td>\n      <td>Downtown Toronto</td>\n      <td>Queen's Park, Ontario Provincial Government</td>\n      <td>43.662301</td>\n      <td>-79.389494</td>\n    </tr>\n  </tbody>\n</table>\n</div>"
                    },
                    "metadata": {}
                }
            ]
        }
    ],
    "metadata": {
        "kernelspec": {
            "name": "python3",
            "display_name": "Python 3.7",
            "language": "python"
        },
        "language_info": {
            "name": "python",
            "version": "3.7.10",
            "mimetype": "text/x-python",
            "codemirror_mode": {
                "name": "ipython",
                "version": 3
            },
            "pygments_lexer": "ipython3",
            "nbconvert_exporter": "python",
            "file_extension": ".py"
        }
    },
    "nbformat": 4,
    "nbformat_minor": 1
}